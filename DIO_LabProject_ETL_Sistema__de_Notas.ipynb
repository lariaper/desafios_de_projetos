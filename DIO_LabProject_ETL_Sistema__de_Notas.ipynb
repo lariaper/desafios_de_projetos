{
  "nbformat": 4,
  "nbformat_minor": 0,
  "metadata": {
    "colab": {
      "provenance": [],
      "authorship_tag": "ABX9TyMjr4oYyifKaBko1LfXdnik",
      "include_colab_link": true
    },
    "kernelspec": {
      "name": "python3",
      "display_name": "Python 3"
    },
    "language_info": {
      "name": "python"
    }
  },
  "cells": [
    {
      "cell_type": "markdown",
      "metadata": {
        "id": "view-in-github",
        "colab_type": "text"
      },
      "source": [
        "<a href=\"https://colab.research.google.com/github/lariaper/desafios_de_projetos/blob/main/DIO_LabProject_ETL_Sistema__de_Notas.ipynb\" target=\"_parent\"><img src=\"https://colab.research.google.com/assets/colab-badge.svg\" alt=\"Open In Colab\"/></a>"
      ]
    },
    {
      "cell_type": "markdown",
      "source": [
        "### **Pipeline de ETL com Python - Sistema de Notas**\n"
      ],
      "metadata": {
        "id": "IUpOJ5hRlFbM"
      }
    },
    {
      "cell_type": "markdown",
      "source": [
        "**Desafio de Projeto - Santander Bootcamp Ciência de Dados com Python 2023**\n",
        "\n",
        "Objetivo: Criar um contexto para aplicar Pipeline ETL utilizando Python\n",
        "\n",
        "Contexto: Estabelecer um sistema de notas, a partir de dados dos alunos disponiveis em tabela.\n",
        "\n",
        "1. Obter os dados dos alunos;\n",
        "2. Analisar e transformar os dados para gerar a nota final;\n",
        "3. Atualizar e enviar essas informações devolta."
      ],
      "metadata": {
        "id": "lAwn7p1Jphix"
      }
    },
    {
      "cell_type": "markdown",
      "source": [
        "## **E**xtract\n",
        "\n",
        "Extração da lista de IDs de usuário a partir do arquivo CSV. As colunas do arquivo são: id, nome, nota 1 e nota 2.\n"
      ],
      "metadata": {
        "id": "9dfI-o7gLRq9"
      }
    },
    {
      "cell_type": "code",
      "source": [
        "import pandas as pd\n",
        "\n",
        "df = pd.read_csv('dados_alunos.csv')\n",
        "print(df)\n"
      ],
      "metadata": {
        "colab": {
          "base_uri": "https://localhost:8080/"
        },
        "id": "Nuw301JHx156",
        "outputId": "ca1dc118-2ad9-476e-d0ef-867c8180bda3"
      },
      "execution_count": 25,
      "outputs": [
        {
          "output_type": "stream",
          "name": "stdout",
          "text": [
            "   id     nome  nota 1  nota 2\n",
            "0   1  Amanda        4       5\n",
            "1   2   Bruno        3       4\n",
            "2   3    Carla       2       3\n"
          ]
        }
      ]
    },
    {
      "cell_type": "markdown",
      "source": [
        "## **T**ransform\n",
        "\n",
        "Gerando uma coluna que informe a soma das notas, obtendo assim o valor da nota final."
      ],
      "metadata": {
        "id": "kmcQ9zC5zS8O"
      }
    },
    {
      "cell_type": "code",
      "source": [
        "df['nota final'] = df['nota 1'] + df['nota 2']\n",
        "print(df)\n",
        "\n"
      ],
      "metadata": {
        "id": "9GPC5x7v0jnm",
        "colab": {
          "base_uri": "https://localhost:8080/"
        },
        "outputId": "076c47fb-7a58-47cd-da0a-a314773abba5"
      },
      "execution_count": 44,
      "outputs": [
        {
          "output_type": "stream",
          "name": "stdout",
          "text": [
            "   id     nome  nota 1  nota 2  nota final\n",
            "0   1  Amanda        4       5           9\n",
            "1   2   Bruno        3       4           7\n",
            "2   3    Carla       2       3           5\n"
          ]
        }
      ]
    },
    {
      "cell_type": "markdown",
      "source": [
        "## **L**oad\n",
        "\n",
        "Carregamento e atualização."
      ],
      "metadata": {
        "id": "J02ioQ1GR5CL"
      }
    },
    {
      "cell_type": "code",
      "source": [
        "df.to_csv(\"dados_aluno_update.csv\")\n",
        "print(df)\n",
        "\n",
        "for nota_final in df['nota final']:\n",
        "  if nota_final >= 6:\n",
        "    print(\"Muito bem! Sua matricula foi renovada.\")\n",
        "else:\n",
        "  print(\"Não foi possivel renovar sua matricula.\")\n",
        "\n"
      ],
      "metadata": {
        "id": "I5rY-gsdSFpp",
        "colab": {
          "base_uri": "https://localhost:8080/"
        },
        "outputId": "e81f6fc5-8ee5-4a82-a19a-650b5f59b703"
      },
      "execution_count": 43,
      "outputs": [
        {
          "output_type": "stream",
          "name": "stdout",
          "text": [
            "   id     nome  nota 1  nota 2  nota final\n",
            "0   1  Amanda        4       5           9\n",
            "1   2   Bruno        3       4           7\n",
            "2   3    Carla       2       3           5\n",
            "Muito bem! Sua matricula foi renovada.\n",
            "Muito bem! Sua matricula foi renovada.\n",
            "Não foi possivel renovar sua matricula.\n"
          ]
        }
      ]
    }
  ]
}